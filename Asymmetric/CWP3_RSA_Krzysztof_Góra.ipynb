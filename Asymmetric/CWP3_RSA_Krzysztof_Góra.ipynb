{
 "cells": [
  {
   "cell_type": "markdown",
   "metadata": {},
   "source": [
    "### 1 Generacja liczby pierwszej, test na generator, metoda wyznaczająca wartości potęg kolejnych generatorów, zastosowanie w PRNG"
   ]
  },
  {
   "cell_type": "code",
   "execution_count": 6,
   "metadata": {},
   "outputs": [],
   "source": [
    "import random\n",
    "\n",
    "def is_prime(num):\n",
    "    if num == 2:\n",
    "        return True\n",
    "    if num < 2 or num % 2 == 0:\n",
    "        return False\n",
    "    for n in range(3, int(num**0.5)+2, 2):\n",
    "        if num % n == 0:\n",
    "            return False\n",
    "    return True\n",
    "\n",
    "def primerange(start, end):\n",
    "    # liczby pierwsze w przedziale start:end\n",
    "    primes = []\n",
    "    for i in range(start, end+1):\n",
    "        if is_prime(i):\n",
    "            primes.append(i)\n",
    "    return primes\n",
    "\n",
    "def random_prime_in_range(start, end):\n",
    "    # losowa liczba pierwsza z przedziału\n",
    "    primes = primerange(start, end)\n",
    "    return random.choice(primes)\n",
    "\n",
    "\n",
    "def is_generator(g, p):\n",
    "    # Sprawdzamy, czy g to generator grupy p\n",
    "    if not is_prime(p):\n",
    "        raise ValueError(\"p musi byc liczba pierwsza\")\n",
    "\n",
    "    #Musimy sprawdźić czy kolejne wartości g**k % p generują cały zbiór {1, 2, ..., p-1}\n",
    "    values = set(pow(g, i, p) for i in range(1, p))\n",
    "    return len(values) == p - 1\n",
    "\n",
    "def generate_powers(g, p):\n",
    "    # Generuje ciąg potęg generatora g modulo p\n",
    "    return [pow(g, i, p) for i in range(1, p)]\n",
    "\n",
    "def powers_all_generators(p):\n",
    "    # Wypisz wartości potęg dla generatorów\n",
    "    for i in range(1, p):\n",
    "        if is_generator(i, p):\n",
    "            print(f\"Generator: {i}, powers: {generate_powers(i, p)}\")"
   ]
  },
  {
   "cell_type": "markdown",
   "metadata": {},
   "source": [
    "***Czy indeks będzie generatorem 16-bitowej liczby pierwszej p?*** "
   ]
  },
  {
   "cell_type": "code",
   "execution_count": 37,
   "metadata": {},
   "outputs": [
    {
     "name": "stdout",
     "output_type": "stream",
     "text": [
      "p: 127217\n",
      "Indeks: 30008 jest generatorem grupy 127217\n"
     ]
    }
   ],
   "source": [
    "p = random_prime_in_range(0, 2**17-1)\n",
    "index = 411659\n",
    "# Żeby problem miał sens weźmy wartość index % p\n",
    "index %= p\n",
    "print(f\"p: {p}\")\n",
    "print(f\"Indeks: {index} {\"jest\" if is_generator(index, p) else \"nie jest\"} generatorem grupy {p}\")"
   ]
  },
  {
   "cell_type": "markdown",
   "metadata": {},
   "source": [
    "***Generacja ciągu potęg dla kolejnych generatorów***"
   ]
  },
  {
   "cell_type": "code",
   "execution_count": 38,
   "metadata": {},
   "outputs": [
    {
     "name": "stdout",
     "output_type": "stream",
     "text": [
      "Generator: 2, powers: [2, 4, 8, 5, 10, 9, 7, 3, 6, 1]\n",
      "Generator: 6, powers: [6, 3, 7, 9, 10, 5, 8, 4, 2, 1]\n",
      "Generator: 7, powers: [7, 5, 2, 3, 10, 4, 6, 9, 8, 1]\n",
      "Generator: 8, powers: [8, 9, 6, 4, 10, 3, 2, 5, 7, 1]\n"
     ]
    }
   ],
   "source": [
    "powers_all_generators(11)"
   ]
  },
  {
   "cell_type": "markdown",
   "metadata": {},
   "source": [
    "***Wykorzystanie dla PRNG***\n",
    "Ciąg może być wykorzystany jako PRNG, ale jest on cykliczny i deterministyczny, dla danego (g i p). Bezpieczeństow zależy od wyboru g i p, ze względu na deterministyczność warto dodać pewne miksowanie, aby wzmocnić kryptogradiczne bezpieczeństow"
   ]
  },
  {
   "cell_type": "markdown",
   "metadata": {},
   "source": [
    "### 2. Czy indeks spełnia wymagania klucza algorytmu RSA dla n=p*q"
   ]
  },
  {
   "cell_type": "code",
   "execution_count": 28,
   "metadata": {},
   "outputs": [],
   "source": [
    "from math import gcd\n",
    "import random\n",
    "\n",
    "def is_prime(num):\n",
    "    if num == 2:\n",
    "        return True\n",
    "    if num < 2 or num % 2 == 0:\n",
    "        return False\n",
    "    for n in range(3, int(num**0.5)+2, 2):\n",
    "        if num % n == 0:\n",
    "            return False\n",
    "    return True\n",
    "\n",
    "def generate_bbs_prime(bits):\n",
    "    while True:\n",
    "        p = random.getrandbits(bits)\n",
    "        if is_prime(p) and p % 4 == 3:\n",
    "            return p\n",
    "        \n",
    "class BBS:\n",
    "    def __init__(self, bits=32):\n",
    "        self.bits = bits\n",
    "        self.p = generate_bbs_prime(bits)\n",
    "        self.q = generate_bbs_prime(bits)\n",
    "        self.n = self.p * self.q\n",
    "        self.state = random.randint(2, self.n - 1)\n",
    "        while gcd(self.state, self.n) != 1: \n",
    "            self.state = random.randint(2, self.n - 1)\n",
    "\n",
    "    def next_bit(self):\n",
    "        self.state = pow(self.state, 2, self.n)  \n",
    "        return self.state % 2  \n",
    "\n",
    "    def next_bits(self, k):\n",
    "        return [self.next_bit() for _ in range(k)]\n",
    "    \n",
    "    def return_number(self):\n",
    "        bits_generated = self.next_bits(self.bits)\n",
    "        return int(''.join(map(str, bits_generated)), 2)\n",
    "    \n",
    "def is_valid_RSA_key(p, q, key):\n",
    "    phi = (p-1) * (q-1)\n",
    "    return gcd(key, phi) == 1 and key in range(2, phi)"
   ]
  },
  {
   "cell_type": "code",
   "execution_count": 64,
   "metadata": {},
   "outputs": [
    {
     "name": "stdout",
     "output_type": "stream",
     "text": [
      "indeks 411659 jest dobrym kluczem RSA dla p: 3080986466, q: 3362754367\n"
     ]
    }
   ],
   "source": [
    "#Generujemy wartości p i q za pomocą BBS_prime\n",
    "bbs = BBS(32)\n",
    "p = bbs.return_number()\n",
    "q = bbs.return_number()\n",
    "\n",
    "#Sprawdzamy czy indeks jest właściwym kluczem dla n=p*q\n",
    "index = 411659\n",
    "print(f\"indeks {index} {\"jest\" if is_valid_RSA_key(p, q, index) else \"nie jest\"} dobrym kluczem RSA dla p: {p}, q: {q}\")"
   ]
  },
  {
   "cell_type": "markdown",
   "metadata": {},
   "source": [
    "### 3. Porównanie efektywności i bezpieczeństwa RSA_0 i RSA_1\n",
    "RSA_0 nie szyfruje wiadomości blokowo, tylko litera po literze przez co każda litera ma taki sam kod w szyfrogramie. Jest to spory problem, ponieważ korzystając z tej informacji można wnioskować litery oryginalnej wiadomości, RSA_1 koduje litery blokowo, co pozwala uniknąć tego problemu"
   ]
  },
  {
   "cell_type": "markdown",
   "metadata": {},
   "source": [
    "### 4. Algorytm potęgowania metodą binarną, z pomiarem zmian"
   ]
  },
  {
   "cell_type": "code",
   "execution_count": 24,
   "metadata": {},
   "outputs": [],
   "source": [
    "def power(a, b, m):\n",
    "    max_len = len(bin(m)[2:])\n",
    "    d = 1\n",
    "    original_d_bin = bin(d)[2:].zfill(max_len)\n",
    "    k = len(bin(b)[2:]) - 1\n",
    "    \n",
    "    for id, i in enumerate(range(k, -1, -1)):\n",
    "        d = (d * d) % m\n",
    "        if (b >> i) & 1:\n",
    "            d = (d * a) % m\n",
    "\n",
    "        d_bin = bin(d)[2:].zfill(max_len)\n",
    "        changed_bits = sum([1 for a, b in zip(original_d_bin, d_bin) if a != b])\n",
    "        changed_bits_percent = (changed_bits / max_len) * 100\n",
    "        print(f\"Iteration: {id+1}:\\nResult in binary: {d_bin}\\nChanged bits in result: {round(changed_bits_percent, 2)}%\")\n",
    "    return d"
   ]
  },
  {
   "cell_type": "code",
   "execution_count": 27,
   "metadata": {},
   "outputs": [
    {
     "name": "stdout",
     "output_type": "stream",
     "text": [
      "Iteration: 1:\n",
      "Result in binary: 00001100001\n",
      "Changed bits in result: 18.18%\n",
      "Iteration: 2:\n",
      "Result in binary: 01010101000\n",
      "Changed bits in result: 45.45%\n",
      "Iteration: 3:\n",
      "Result in binary: 01111110010\n",
      "Changed bits in result: 72.73%\n",
      "Iteration: 4:\n",
      "Result in binary: 00000110110\n",
      "Changed bits in result: 45.45%\n",
      "Iteration: 5:\n",
      "Result in binary: 00110100110\n",
      "Changed bits in result: 54.55%\n",
      "Iteration: 6:\n",
      "Result in binary: 01011000000\n",
      "Changed bits in result: 36.36%\n",
      "Iteration: 7:\n",
      "Result in binary: 00110011000\n",
      "Changed bits in result: 45.45%\n",
      "408\n"
     ]
    }
   ],
   "source": [
    "message = \"a\"\n",
    "message_num = ord(message)\n",
    "e = 67\n",
    "p = 29\n",
    "q = 43\n",
    "print(power(message_num, e, p*q))\n"
   ]
  },
  {
   "cell_type": "markdown",
   "metadata": {},
   "source": [
    "# 5. Odszyfrowanie szyfrogramu\n",
    "Wiadomość odczytana z szyfrogramu 92056083186673327707438445422138850995, dla n = p*q = 340277174544854189285703885855116560303 i e = 65537 to ***\"Podaj nr albumu\"***"
   ]
  }
 ],
 "metadata": {
  "kernelspec": {
   "display_name": "base",
   "language": "python",
   "name": "python3"
  },
  "language_info": {
   "codemirror_mode": {
    "name": "ipython",
    "version": 3
   },
   "file_extension": ".py",
   "mimetype": "text/x-python",
   "name": "python",
   "nbconvert_exporter": "python",
   "pygments_lexer": "ipython3",
   "version": "3.12.2"
  }
 },
 "nbformat": 4,
 "nbformat_minor": 2
}
