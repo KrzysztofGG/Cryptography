{
 "cells": [
  {
   "cell_type": "markdown",
   "metadata": {},
   "source": [
    "### Szyfr Cezara"
   ]
  },
  {
   "cell_type": "code",
   "execution_count": 18,
   "metadata": {},
   "outputs": [
    {
     "name": "stdout",
     "output_type": "stream",
     "text": [
      "Tekst jawny:  Tekst wiadomosci to Ala ma kota\n",
      "Szyfrogram:  whnvwzldgrprvflwrdodpdnrwd (bez spacji)\n",
      "Odszyfrowana wiadomość:  tekstwiadomoscitoalamakota (bez spacji)\n"
     ]
    }
   ],
   "source": [
    "#algorytm podstawieniowy mono-Alfabet-yczny z kluczem stałym  \n",
    "alfabet = ['a','b', 'c', 'd', 'e', 'f', 'g', 'h', 'i', 'j', 'k', 'l', 'm', 'n', 'o', 'p',\n",
    "            'q', 'r', 's', 't', 'u', 'v', 'w', 'x', 'y', 'z']\n",
    "wiadomosc = \"Tekst wiadomosci to Ala ma kota\"\n",
    "szyfrogram = \"\"\n",
    "key = 3 # k jest kluczem podstawienia, klucz szyfrowania key = 3 -> Szyfr Cesara - \n",
    "print(\"Tekst jawny: \", wiadomosc)\n",
    "\n",
    "for informacja in wiadomosc.lower().split(): # szyfrowanie jako: s[i] = (w[i] + k ) mod len(alfabet)\n",
    "    for znak in informacja:\n",
    "        szyfrogram = szyfrogram + alfabet[(alfabet.index(znak) + key) % len(alfabet)]\n",
    "print(\"Szyfrogram: \",  szyfrogram, \"(bez spacji)\")\n",
    "\n",
    "odszyfrowano = \"\"\n",
    "for komunikat in szyfrogram: # deszyfrowanie jako: w[i] = (s[i] - k ) mod len(alfabet)\n",
    "    for znak in komunikat:\n",
    "        odszyfrowano = odszyfrowano + alfabet[(alfabet.index(znak)- key) % len(alfabet)]\n",
    "print(\"Odszyfrowana wiadomość: \",  odszyfrowano,  \"(bez spacji)\")\n",
    "\n",
    "# deszyfrowanie powinno dać wynik  (s[i] - k ) mod len(alfabet) => (((w[i] + k ) - k) mod len(alfabet)= W[i]\n",
    "# liczność kluczy 26 => poziom bezpieczeństwa zaokr.gora(log2(26)) = 5 - poziom bezpieczeństwa wynosi 5"
   ]
  },
  {
   "cell_type": "markdown",
   "metadata": {},
   "source": [
    "### 1. Bezpieczniejszy szyfr podstawieniowy\n",
    "***Szyfr Vigenere'a*** z kluczem stałej długości"
   ]
  },
  {
   "cell_type": "code",
   "execution_count": 19,
   "metadata": {},
   "outputs": [],
   "source": [
    "import random\n",
    "\n",
    "ALPHABET_LEN = 26\n",
    "def generate_key_vignere(n):\n",
    "    \"Returns a random key of length n\"\n",
    "    return [random.randint(0, 25) for _ in range(n)]\n",
    "\n",
    "\n",
    "def encrypt_vignere(message, key):\n",
    "    \"Encrypt the message with given key\"\n",
    "    encrypted = \"\"\n",
    "    for i, char in enumerate(message):\n",
    "        if char.isalpha():\n",
    "            shift = key[i % len(key)]\n",
    "            alphabet_base = ord('a') if char.islower() else ord('A')\n",
    "            new_char = chr((ord(char) - alphabet_base + shift) % ALPHABET_LEN + alphabet_base)\n",
    "            encrypted += new_char\n",
    "        else:\n",
    "            encrypted += char\n",
    "    return encrypted\n",
    "\n",
    "def decrypt_vignere(ciphertext, key):\n",
    "    \"Decrypt the ciphertext with the key\"\n",
    "    decrypted = \"\"\n",
    "    for i, char in enumerate(ciphertext):\n",
    "        if char.isalpha():\n",
    "            shift = key[i % len(key)]\n",
    "            alphabet_base = ord('a') if char.islower() else ord('A')\n",
    "            new_char = chr((ord(char) - alphabet_base - shift) % ALPHABET_LEN + alphabet_base)\n",
    "            decrypted += new_char\n",
    "        else:\n",
    "            decrypted += char\n",
    "    return decrypted\n",
    "\n",
    "def test_vignere(message, key_len):\n",
    "    \"Test the vigenere cipher with given message and key length\"\n",
    "    print(\"Original message:\", message)\n",
    "    key = generate_key_vignere(key_len)\n",
    "    print(\"Generated key:\", key)\n",
    "    encrypted = encrypt_vignere(message, key)\n",
    "    print(\"Encrypted message:\", encrypted)\n",
    "    decrypted = decrypt_vignere(encrypted, key)\n",
    "    print(\"Decrypted message:\", decrypted)"
   ]
  },
  {
   "cell_type": "code",
   "execution_count": 20,
   "metadata": {},
   "outputs": [
    {
     "name": "stdout",
     "output_type": "stream",
     "text": [
      "Original message: Tekst wiadomosci to Ala ma kota\n",
      "Generated key: [20, 22, 16, 18, 23]\n",
      "Encrypted message: Naakq sysaiiekzc jg Uhq ju agqu\n",
      "Decrypted message: Tekst wiadomosci to Ala ma kota\n"
     ]
    }
   ],
   "source": [
    "test_vignere(\"Tekst wiadomosci to Ala ma kota\", 5)"
   ]
  },
  {
   "cell_type": "markdown",
   "metadata": {},
   "source": [
    "### 2. Poziom bezpieczeństwa szyfru podstawieniowego"
   ]
  },
  {
   "cell_type": "code",
   "execution_count": 21,
   "metadata": {},
   "outputs": [
    {
     "name": "stdout",
     "output_type": "stream",
     "text": [
      "Poziom bezpieczeństwa: 24\n"
     ]
    }
   ],
   "source": [
    "# Poziom bezpieczeństwa zależy od długości klucza, dla klucza o długości 5 wyliczamy go\n",
    "# jako sufit z logarytmu o podstawie 2 z liczby możliwych kluczy, czyli 26^5:\n",
    "\n",
    "import math\n",
    "print(\"Poziom bezpieczeństwa:\", math.ceil(math.log2(26**5)))"
   ]
  },
  {
   "cell_type": "markdown",
   "metadata": {},
   "source": [
    "### 3. Szyfr przestawieniowy\n",
    "Szyfr kolumnowy"
   ]
  },
  {
   "cell_type": "code",
   "execution_count": 22,
   "metadata": {},
   "outputs": [],
   "source": [
    "def generate_key_column(n):\n",
    "    return random.sample(range(n), n)\n",
    "\n",
    "def encrypt_column(message, key):\n",
    "\n",
    "    message = message.replace(\" \", \"\")\n",
    "    num_columns = len(key)\n",
    "\n",
    "    num_rows = len(message) // num_columns\n",
    "    if len(message) % num_columns != 0:\n",
    "        num_rows += 1\n",
    "    \n",
    "    padding = num_columns * num_rows - len(message)\n",
    "    message += \"_\" * padding\n",
    "\n",
    "    grid = [message[i:i+num_columns] for i in range(0, len(message), num_columns)]\n",
    "    encrypted = \"\"\n",
    "\n",
    "    for i in sorted(range(len(key)), key=lambda x: key[x]):\n",
    "        for row in grid:\n",
    "            encrypted += row[i]\n",
    "\n",
    "    return encrypted\n",
    "\n",
    "def decrypt_column(ciphertext, key):\n",
    "    num_columns = len(key)\n",
    "    num_rows = len(ciphertext) // num_columns\n",
    "\n",
    "    columns = [\"\"] * num_columns\n",
    "    col_order = sorted(range(len(key)), key=lambda x: key[x])\n",
    "\n",
    "    id = 0\n",
    "    for col in col_order:\n",
    "        columns[col] = ciphertext[id:id+num_rows]\n",
    "        id += num_rows\n",
    "    \n",
    "    decrypted = \"\"\n",
    "    for i in range(num_rows):\n",
    "        for col in columns:\n",
    "            decrypted += col[i]\n",
    "\n",
    "    decrypted = decrypted.rstrip(\"_\")\n",
    "    return decrypted\n",
    "\n",
    "\n",
    "def test_column(message, key_len):\n",
    "    \"Test the column cipher with given message and key length\"\n",
    "    print(\"Original message:\", message)\n",
    "    key = generate_key_column(key_len)\n",
    "    print(\"Key:\", key)\n",
    "    encrypted = encrypt_column(message, key)\n",
    "    print(\"Encrypted message:\", encrypted)\n",
    "    decrypted = decrypt_column(encrypted, key)\n",
    "    print(\"Decrypted message:\", decrypted)"
   ]
  },
  {
   "cell_type": "code",
   "execution_count": 23,
   "metadata": {},
   "outputs": [
    {
     "name": "stdout",
     "output_type": "stream",
     "text": [
      "Original message: HELLO WORLD\n",
      "Key: [1, 0, 2, 3, 4]\n",
      "Encrypted message: EOHWLRLLOD\n",
      "Decrypted message: HELLOWORLD\n"
     ]
    }
   ],
   "source": [
    "test_column(\"HELLO WORLD\", 5)"
   ]
  },
  {
   "cell_type": "markdown",
   "metadata": {},
   "source": [
    "### 3.2 Poziom bezpieczeństwa szyfru kolumnowego"
   ]
  },
  {
   "cell_type": "code",
   "execution_count": 24,
   "metadata": {},
   "outputs": [
    {
     "name": "stdout",
     "output_type": "stream",
     "text": [
      "Poziom bezpieczeństwa: 7\n"
     ]
    }
   ],
   "source": [
    "#Poziom bezpieczeństwa zależy od dłogści klucza, dla klucza o długości 5 wyliczamy jako \n",
    "# sufit z logarytmu o podstawie 2 z liczby możliwych kluczy, czyli 5!=120:\n",
    "\n",
    "import math\n",
    "print(\"Poziom bezpieczeństwa:\", math.ceil(math.log2(120)))"
   ]
  },
  {
   "cell_type": "markdown",
   "metadata": {},
   "source": [
    "### 4. Podatność na kryptoanalize\n",
    "- Podatne na analizę częstotliwościową, częstotliwość występowania znaków nie zmienia się w żadnym z tych szyfrów\n",
    "- jeżeli znana jest przybliżona długość klucza, łatwo można szybko sprawdzić wiele kombinacji metodą brute-force\n",
    "- jeżeli znana jest część wiadomości, możemy użyć jej do uzyskania klucza\n"
   ]
  },
  {
   "cell_type": "markdown",
   "metadata": {},
   "source": [
    "### 5.1 Wymogi dyfuzji\n",
    "- Szyfry nie spełniają wymogów, ponieważ zmiana jednego elementu wiadomości zmienia tylko jedną wartość szyfrogramu, a nie ok 50%\n",
    "- Poprawa mogłaby polegać na podstawianiu nowych wartość dla połowy wiadomości (a nie tylko jednej litery) z każdym elementem klucza i robienie tego aż klucz się skończy. Problem jednak jak wybrać tę połowę wiadomości\n",
    "\n",
    "### 5.2 Wymogi konfuzji\n",
    "- Też nie spełniają wymogów, ponieważ każdy element szyfrogramu zależy od dokładnie jednego elementu klucza.\n",
    "- Żeby to poprawić moglbyśmy np. brać dwie części klucza i ostateczną wartość przestawienia albo podstawienia wyliczać na podstawie jakiejś relacji tych 2 wartośći"
   ]
  },
  {
   "cell_type": "markdown",
   "metadata": {},
   "source": [
    "### 6 Algorytmy pomiaru dyfuzji i konfuzji\n",
    "\n",
    "***dyfuzja***"
   ]
  },
  {
   "cell_type": "code",
   "execution_count": 25,
   "metadata": {},
   "outputs": [],
   "source": [
    "\n",
    "import random\n",
    "            # alphabet_base = ord('a') if char.islower() else ord('A')\n",
    "            # new_char = chr((ord(char) - alphabet_base + shift) % ALPHABET_LEN + alphabet_base)\n",
    "ALPHABET_LEN = 26\n",
    "def measure_diffusion(message, cipher, key):\n",
    "# 1. Wybrać przykładową wiadomość i wygenerować inne, które różnia się od oryginału jednym znakiem\n",
    "    messages = generate_messages(message)\n",
    "\n",
    "# 2. Zaszyfrować wszystkie wiadomości tym samym kluczem\n",
    "    encrypted_messages = [cipher(m, key) for m in messages]\n",
    "\n",
    "# 3. Obliczyć ilość różniących się znaków między szfrogramem oryginału, a szyfrogramami innych wiadomości\n",
    "    original_encrypted = cipher(message, key)\n",
    "    diffs = []\n",
    "\n",
    "    for encrypted_message in encrypted_messages:\n",
    "        diff = sum([1 for i in range(len(original_encrypted)) if original_encrypted[i] != encrypted_message[i]])\n",
    "        diffs.append(diff)\n",
    "    \n",
    "# 4. Obliczyć średnią ilość różniących się znaków i znormalizować wynik dzieląc przez długość oryginalnej wiadomości\n",
    "    avg_diff = sum(diffs) / len(diffs)\n",
    "    diff_percentage = avg_diff / len(message) * 100\n",
    "    print(\"Average number of different characters: {:.2f}\".format(avg_diff))\n",
    "    print(\"Diffusion score: {:.2f}%\".format(diff_percentage))\n",
    "        \n",
    "def generate_messages(original_message):\n",
    "    messages = []\n",
    "    for i in range(len(original_message)):\n",
    "        alphabet_base = ord('a') if original_message[i].islower() else ord('A')\n",
    "        new_message = original_message[:i] + chr((ord(original_message[i]) - alphabet_base + random.randint(1, 25)) % ALPHABET_LEN + alphabet_base) + original_message[i+1:]\n",
    "        messages.append(new_message)\n",
    "    return messages\n",
    "    "
   ]
  },
  {
   "cell_type": "code",
   "execution_count": 26,
   "metadata": {},
   "outputs": [
    {
     "name": "stdout",
     "output_type": "stream",
     "text": [
      "Average number of different characters: 1.00\n",
      "Diffusion score: 3.70%\n"
     ]
    }
   ],
   "source": [
    "message = \"HELLO WORLD WHAT A NICE DAY\"\n",
    "cipher = encrypt_vignere\n",
    "key = generate_key_vignere(5)\n",
    "\n",
    "measure_diffusion(message, cipher, key)"
   ]
  },
  {
   "cell_type": "code",
   "execution_count": 27,
   "metadata": {},
   "outputs": [
    {
     "name": "stdout",
     "output_type": "stream",
     "text": [
      "Average number of different characters: 2.74\n",
      "Diffusion score: 10.15%\n"
     ]
    }
   ],
   "source": [
    "message = \"HELLO WORLD WHAT A NICE DAY\"\n",
    "cipher = encrypt_column\n",
    "key = generate_key_column(5)\n",
    "\n",
    "measure_diffusion(message, cipher, key)"
   ]
  },
  {
   "cell_type": "markdown",
   "metadata": {},
   "source": [
    "***konfuzja***"
   ]
  },
  {
   "cell_type": "code",
   "execution_count": null,
   "metadata": {},
   "outputs": [],
   "source": [
    "import random\n",
    "\n",
    "def measue_confusion(message, cipher_name, key):\n",
    "    # 1. Wybrać przykładowy klucz i wygenerować inne, które różnia się od oryginału jednym znakiem\n",
    "    # Dla szyfru Vignere klucze różnią się o 1 znak, dla szyfru kolumnowego wymieniamy miejscami dwa znaki\n",
    "    keys = generate_keys(key, cipher_name)\n",
    "    \n",
    "    # 2. Zaszyfrować wiadomość kluczami\n",
    "    encrypted_messages = []\n",
    "    if cipher_name == \"vignere\":\n",
    "        encrypted_messages = [encrypt_vignere(message, k) for k in keys]\n",
    "    elif cipher_name == \"column\":\n",
    "        encrypted_messages = [encrypt_column(message, k) for k in keys]\n",
    "\n",
    "    # 3. Obliczyć ilość różniących się znaków między szfrogramem z kluczem oryginalnym, a szyfrogramami z innymi kluczami\n",
    "    original_encrypted = cipher(message, key)\n",
    "    diffs = []\n",
    "\n",
    "    for encrypted_message in encrypted_messages:\n",
    "        diff = sum([1 for i in range(len(original_encrypted)) if original_encrypted[i] != encrypted_message[i]])\n",
    "        diffs.append(diff)\n",
    "    \n",
    "    # 4. Obliczyć średnią ilość różniących się znaków i znormalizować wynik dzieląc przez długość oryginalnej wiadomości\n",
    "    avg_diff = sum(diffs) / len(diffs)\n",
    "    diff_percentage = avg_diff / len(message) * 100\n",
    "    print(\"Average number of different characters: {:.2f}\".format(avg_diff))\n",
    "    print(\"Confusion score: {:.2f}%\".format(diff_percentage))\n",
    "    \n",
    "\n",
    "def generate_keys(original_key, cipher_name):\n",
    "    keys = []\n",
    "    for i in range(len(original_key)):\n",
    "        new_key = original_key.copy()\n",
    "        if cipher_name == \"vignere\":\n",
    "            new_key[i] = (original_key[i] + random.randint(1, 25)) % ALPHABET_LEN\n",
    "        elif cipher_name == \"column\":\n",
    "            rand_id = random.randint(0, len(original_key) - 1)\n",
    "            while rand_id == i:\n",
    "                rand_id = random.randint(0, len(original_key) - 1)\n",
    "            new_key[i], new_key[rand_id] = new_key[rand_id], new_key[i]\n",
    "            \n",
    "        keys.append(new_key)\n",
    "    return keys\n",
    "       "
   ]
  },
  {
   "cell_type": "code",
   "execution_count": 29,
   "metadata": {},
   "outputs": [
    {
     "name": "stdout",
     "output_type": "stream",
     "text": [
      "Average number of different characters: 23.80\n",
      "Confusion score: 88.15%\n"
     ]
    }
   ],
   "source": [
    "message = \"HELLO WORLD WHAT A NICE DAY\"\n",
    "cipher_name = \"vignere\"\n",
    "key = generate_key_vignere(5)\n",
    "\n",
    "measue_confusion(message, cipher_name, key)"
   ]
  },
  {
   "cell_type": "code",
   "execution_count": 30,
   "metadata": {},
   "outputs": [
    {
     "name": "stdout",
     "output_type": "stream",
     "text": [
      "Average number of different characters: 9.20\n",
      "Confusion score: 34.07%\n"
     ]
    }
   ],
   "source": [
    "message = \"HELLO WORLD WHAT A NICE DAY\"\n",
    "cipher_name = \"column\"\n",
    "key = generate_key_column(5)\n",
    "\n",
    "measue_confusion(message, cipher_name, key)"
   ]
  },
  {
   "cell_type": "code",
   "execution_count": null,
   "metadata": {},
   "outputs": [],
   "source": []
  }
 ],
 "metadata": {
  "kernelspec": {
   "display_name": "base",
   "language": "python",
   "name": "python3"
  },
  "language_info": {
   "codemirror_mode": {
    "name": "ipython",
    "version": 3
   },
   "file_extension": ".py",
   "mimetype": "text/x-python",
   "name": "python",
   "nbconvert_exporter": "python",
   "pygments_lexer": "ipython3",
   "version": "3.12.2"
  }
 },
 "nbformat": 4,
 "nbformat_minor": 2
}
